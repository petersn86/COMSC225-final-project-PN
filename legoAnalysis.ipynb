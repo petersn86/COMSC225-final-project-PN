{
 "cells": [
  {
   "cell_type": "code",
   "execution_count": 6,
   "metadata": {},
   "outputs": [
    {
     "name": "stdout",
     "output_type": "stream",
     "text": [
      "           part_num  color_id  inventory_id  set_num  theme_id  \\\n",
      "0          48379c01        72             1   7922-1       460   \n",
      "1             48395         7             1   7922-1       460   \n",
      "2          mcsport6        25             1   7922-1       460   \n",
      "3            paddle         0             1   7922-1       460   \n",
      "4       11816pr0005        78             3   3931-1       494   \n",
      "...             ...       ...           ...      ...       ...   \n",
      "580246        99206         0         18708  75090-2       182   \n",
      "580247        99207        71         18708  75090-2       182   \n",
      "580248        99780        15         18708  75090-2       182   \n",
      "580249        99780         0         18708  75090-2       182   \n",
      "580250        99780        72         18708  75090-2       182   \n",
      "\n",
      "                    name  \n",
      "0          Gravity Games  \n",
      "1          Gravity Games  \n",
      "2          Gravity Games  \n",
      "3          Gravity Games  \n",
      "4                Friends  \n",
      "...                  ...  \n",
      "580246  Star Wars Rebels  \n",
      "580247  Star Wars Rebels  \n",
      "580248  Star Wars Rebels  \n",
      "580249  Star Wars Rebels  \n",
      "580250  Star Wars Rebels  \n",
      "\n",
      "[580251 rows x 6 columns]\n"
     ]
    }
   ],
   "source": [
    "import pandas as pd\n",
    "\n",
    "# Read CSV files into DataFrames\n",
    "sets = pd.read_csv('archive/sets.csv')\n",
    "inv = pd.read_csv('archive/inventories.csv')\n",
    "inv_sets = pd.read_csv('archive/inventory_sets.csv')\n",
    "pieces = pd.read_csv('archive/inventory_parts.csv')\n",
    "themes = pd.read_csv('archive/themes.csv')\n",
    "\n",
    "# Select relevant columns for each DataFrame\n",
    "pieces_df = pieces[['part_num', 'color_id', 'inventory_id']]\n",
    "inv_df = inv[['id', 'set_num']]\n",
    "sets_df = sets[['set_num', 'theme_id']]\n",
    "themes_df = themes[['id', 'name']]\n",
    "\n",
    "# Merge DataFrames sequentially\n",
    "merged_df = pd.merge(pieces_df, inv_df, left_on='inventory_id', right_on='id', how='left')\n",
    "merged_df = pd.merge(merged_df, sets_df, on='set_num', how='left')\n",
    "merged_df = pd.merge(merged_df, themes_df, left_on='theme_id', right_on='id', how='left')\n",
    "\n",
    "# Drop redundant 'id' columns\n",
    "merged_df.drop(['id_x', 'id_y'], axis=1, inplace=True)\n",
    "\n"
   ]
  },
  {
   "cell_type": "code",
   "execution_count": 47,
   "metadata": {},
   "outputs": [
    {
     "name": "stdout",
     "output_type": "stream",
     "text": [
      "Decision Tree Accuracy: 0.9938733832539143\n"
     ]
    }
   ],
   "source": [
    "from sklearn.model_selection import train_test_split\n",
    "from sklearn.tree import DecisionTreeClassifier\n",
    "from sklearn.metrics import accuracy_score\n",
    "\n",
    "#Count the occurrence of each color in a set\n",
    "color_counts = merged_df.groupby(['set_num', 'color_id']).size().unstack(fill_value=0)\n",
    "\n",
    "# Merge color counts with theme labels\n",
    "data = pd.merge(color_counts, merged_df[['set_num', 'name']], left_index=True, right_on='set_num')\n",
    "\n",
    "# Select features and target variable\n",
    "X = data.drop(['set_num', 'name'], axis=1)\n",
    "y = data['name']\n",
    "\n",
    "# Split data into training and testing sets\n",
    "X_train, X_test, y_train, y_test = train_test_split(X, y, test_size=0.2, random_state=42)\n",
    "\n",
    "# Initialize and train the decision tree classifier\n",
    "clf = DecisionTreeClassifier(random_state=42)\n",
    "clf.fit(X_train, y_train)\n",
    "\n",
    "# Make predictions on the test set\n",
    "y_pred = clf.predict(X_test)\n",
    "\n",
    "# Evaluate the model\n",
    "accuracy = accuracy_score(y_test, y_pred)\n",
    "print(\"Decision Tree Accuracy:\", accuracy)\n"
   ]
  },
  {
   "cell_type": "code",
   "execution_count": 82,
   "metadata": {},
   "outputs": [
    {
     "name": "stdout",
     "output_type": "stream",
     "text": [
      "Predicted Themes: ['Insectoids']\n"
     ]
    },
    {
     "name": "stderr",
     "output_type": "stream",
     "text": [
      "c:\\Users\\peter\\AppData\\Local\\Programs\\Python\\Python311\\Lib\\site-packages\\sklearn\\base.py:486: UserWarning: X has feature names, but DecisionTreeClassifier was fitted without feature names\n",
      "  warnings.warn(\n"
     ]
    }
   ],
   "source": [
    "test_data = pd.DataFrame({\n",
    "    '0': [0],'1': [0],'2': [0],'3': [0],'4': [0],'5': [0],\n",
    "    '6': [0],'7': [0],'8': [0],'9': [0],'10': [0],\n",
    "    '11': [0],'12': [0],'13': [0],'14': [0], '15': [0],\n",
    "    '16': [0], '17': [0], '18': [0], '19': [0], '20': [0],\n",
    "    '21': [0], '22': [0], '23': [0], '24': [0], '25': [0],\n",
    "    '26': [0], '27': [0], '28': [0], '29': [0], '30': [0], \n",
    "    '31': [0], '32': [0], '33': [0], '34': [0], '35': [0], \n",
    "    '36': [0],'37': [0], '38': [0], '39': [0], '40': [0], \n",
    "    '41': [0], '42': [0], '43': [0], '44': [0], '45': [0], \n",
    "    '46': [0],'47': [0], '48': [0], '49': [0], '50': [0], \n",
    "    '51': [0], '52': [0], '53': [0], '54': [0], '55': [0], \n",
    "    '56': [0],'57': [0], '58': [0], '59': [0], '60': [0], \n",
    "    '61': [0], '62': [0], '63': [0], '64': [0], '65': [0],\n",
    "    '66': [0],'67': [0], '68': [0], '69': [0], '70': [0], \n",
    "    '71': [0],'72': [0], '73': [0], '74': [0], '75': [0],\n",
    "    '76': [0], '77': [0],'78': [0], '79': [0], '80': [0], \n",
    "    '81': [0], '82': [0], '83': [0], '84': [0], '85': [0], \n",
    "    '86': [0], '87': [0], '88': [0], '89': [0], '90': [0], \n",
    "    '91': [0], '92': [0], '93': [0], '94': [0], '95': [0], \n",
    "    '96': [0], '97': [0], '98': [0], '99': [0], '100': [0], \n",
    "    '101': [0], '102': [0], '103': [0], '104': [0], '105': [0], \n",
    "    '106': [0], '107': [0], '108': [0], '109': [0], '110': [0], \n",
    "    '111': [0], '112': [0], '113': [0], '114': [0], '115': [0],\n",
    "    '116': [0], '117': [0], '118': [0], '119': [0], '120': [0], \n",
    "    '121': [0], '122': [0], '123': [0], '124': [0], '125': [0], \n",
    "    '126': [0], '127': [0],'128': [0], '129': [0], '130': [0]\n",
    "}) #Each number corresponds to a color (look under colors for color_ids)\n",
    "\n",
    "# Use the trained decision tree classifier to make predictions on the test data\n",
    "predicted_themes = clf.predict(test_data)\n",
    "\n",
    "# Print the predicted themes\n",
    "print(\"Predicted Themes:\", predicted_themes)"
   ]
  }
 ],
 "metadata": {
  "kernelspec": {
   "display_name": "Python 3",
   "language": "python",
   "name": "python3"
  },
  "language_info": {
   "codemirror_mode": {
    "name": "ipython",
    "version": 3
   },
   "file_extension": ".py",
   "mimetype": "text/x-python",
   "name": "python",
   "nbconvert_exporter": "python",
   "pygments_lexer": "ipython3",
   "version": "3.11.3"
  }
 },
 "nbformat": 4,
 "nbformat_minor": 2
}
