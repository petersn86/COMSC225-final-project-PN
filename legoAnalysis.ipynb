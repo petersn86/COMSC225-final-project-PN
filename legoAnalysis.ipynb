{
 "cells": [
  {
   "cell_type": "code",
   "execution_count": 8,
   "metadata": {},
   "outputs": [],
   "source": [
    "import csv\n",
    "import pandas as pd\n",
    "\n",
    "sets = pd.read_csv('archive/sets.csv') #contains sets --> set_names & theme_ids\n",
    "\n",
    "inv_sets = pd.read_csv('archive/inventory_sets.csv') #contains sets --> inv_ids\n",
    "\n",
    "pieces = pd.read_csv('archive/inventory_parts.csv') #contains pieces --> inv_ids\n",
    "\n",
    "themes = pd.read_csv('archive/themes.csv') #theme_ids --> theme names\n",
    "\n"
   ]
  }
 ],
 "metadata": {
  "kernelspec": {
   "display_name": "Python 3",
   "language": "python",
   "name": "python3"
  },
  "language_info": {
   "codemirror_mode": {
    "name": "ipython",
    "version": 3
   },
   "file_extension": ".py",
   "mimetype": "text/x-python",
   "name": "python",
   "nbconvert_exporter": "python",
   "pygments_lexer": "ipython3",
   "version": "3.11.3"
  }
 },
 "nbformat": 4,
 "nbformat_minor": 2
}
